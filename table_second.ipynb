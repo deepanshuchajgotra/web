{
 "cells": [
  {
   "cell_type": "code",
   "execution_count": null,
   "metadata": {},
   "outputs": [],
   "source": [
    "import mysql.connector\n",
    "mydb =mysql.connector.connect(host=\"localhost\",user=\"myuser1\",passwd=\"elephant\",database=\"fileupload\",auth_plugin=\"mysql_native_password\")\n",
    "mycursor=mydb.cursor()\n",
    "mycursor.execute(\"SELECT *  from upload\")\n",
    "\n",
    "result =  mycursor.fetchall()\n",
    "for info in result:\n",
    "    print(info)"
   ]
  },
  {
   "cell_type": "code",
   "execution_count": null,
   "metadata": {},
   "outputs": [],
   "source": [
    "myfile=open(\"data.txt\",\"w+\")\n",
    "myfile.write(\"\\r\\n Keywords: \"+str(inpo)+\"\\r\\n\")\n",
    "file1=open(\"data.txt\")\n",
    "print(file1.read())"
   ]
  },
  {
   "cell_type": "code",
   "execution_count": null,
   "metadata": {},
   "outputs": [],
   "source": [
    "def func(info):\n",
    "    import os\n",
    "    import spacy\n",
    "    from spacy.lang.en.stop_words import STOP_WORDS\n",
    "    from string import punctuation\n",
    "    stopwords = list(STOP_WORDS)\n",
    "    nlp = spacy.load('en_core_web_sm')\n",
    "    doc = nlp(str(info))\n",
    "    tokens = [token.text for token in doc]\n",
    "    punctuation = punctuation + '\\n'\n",
    "    word_frequencies = {}\n",
    "    for word in doc:\n",
    "        if word.text.lower() not in stopwords:\n",
    "            if word.text.lower() not in punctuation:\n",
    "                if word.text not in word_frequencies.keys():\n",
    "                    word_frequencies[word.text] = 1\n",
    "                else:\n",
    "                    word_frequencies[word.text] += 1\n",
    "    max_frequency = max(word_frequencies.values())\n",
    "    for word in word_frequencies.keys():\n",
    "        word_frequencies[word] = word_frequencies[word]/max_frequency\n",
    "    sentence_tokens = [sent for sent in doc.sents]\n",
    "    sentence_scores = {}\n",
    "    for sent in sentence_tokens:\n",
    "        for word in sent:\n",
    "            if word.text.lower() in word_frequencies.keys():\n",
    "                if sent not in sentence_scores.keys():\n",
    "                    sentence_scores[sent] = word_frequencies[word.text.lower()]\n",
    "                else:\n",
    "                    sentence_scores[sent] += word_frequencies[word.text.lower()]\n",
    "    from heapq import nlargest\n",
    "    select_length = int(len(sentence_tokens)*0.000001)\n",
    "    summary = nlargest(select_length, sentence_scores, key = sentence_scores.get)\n",
    "    final_summary = [word.text for word in summary]\n",
    "    summary = ' '.join(final_summary)\n",
    "    print(summary)"
   ]
  },
  {
   "cell_type": "code",
   "execution_count": null,
   "metadata": {},
   "outputs": [],
   "source": [
    "#convert = str(info)\n",
    "my_file=open(str(info))\n",
    "info=my_file.readlines()\n",
    "print(func(info))"
   ]
  },
  {
   "cell_type": "code",
   "execution_count": null,
   "metadata": {},
   "outputs": [],
   "source": [
    "import os\n",
    "import mysql.connector\n",
    "mydb = mysql.connector.connect(host=\"localhost\",user=\"myuser1\",passwd=\"elephant\",database=\"fileupload\",auth_plugin=\"mysql_native_password\")\n",
    "cursor=mydb.cursor()\n",
    "file = open('/home/tusharnaagar/data.txt', 'r')\n",
    "file_content = file.read()\n",
    "file.close()\n",
    "\n",
    "query = \"INSERT INTO document_keyword(keyword) VALUES (%s)\"\n",
    "\n",
    "cursor.execute(query, (file_content,))\n",
    "\n",
    "mydb.commit()\n",
    "mydb.close()"
   ]
  },
  {
   "cell_type": "code",
   "execution_count": null,
   "metadata": {},
   "outputs": [],
   "source": [
    "import os\n",
    "import mysql.connector\n",
    "mydb = mysql.connector.connect(host=\"localhost\",user=\"myuser1\",passwd=\"elephant\",database=\"fileupload\",auth_plugin=\"mysql_native_password\")\n",
    "cursor=mydb.cursor()\n",
    "file = open('/home/tusharnaagar/Desktop/data.txt', 'r')\n",
    "file_content = file.read()\n",
    "file.close()\n",
    "\n",
    "query = \"INSERT INTO upload(name) VALUES (%s)\"\n",
    "\n",
    "cursor.execute(query, (file_content,))\n",
    "\n",
    "mydb.commit()\n",
    "mydb.close()"
   ]
  },
  {
   "cell_type": "code",
   "execution_count": null,
   "metadata": {},
   "outputs": [],
   "source": []
  },
  {
   "cell_type": "code",
   "execution_count": null,
   "metadata": {},
   "outputs": [],
   "source": []
  }
 ],
 "metadata": {
  "kernelspec": {
   "display_name": "Python 3",
   "language": "python",
   "name": "python3"
  },
  "language_info": {
   "codemirror_mode": {
    "name": "ipython",
    "version": 3
   },
   "file_extension": ".py",
   "mimetype": "text/x-python",
   "name": "python",
   "nbconvert_exporter": "python",
   "pygments_lexer": "ipython3",
   "version": "3.7.6"
  }
 },
 "nbformat": 4,
 "nbformat_minor": 4
}
